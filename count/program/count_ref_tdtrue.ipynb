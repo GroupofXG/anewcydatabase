{
 "cells": [
  {
   "cell_type": "code",
   "execution_count": 14,
   "metadata": {
    "metadata": {}
   },
   "outputs": [],
   "source": [
    "import os\n",
    "import ijson\n",
    "import json\n",
    "\n"
   ]
  },
  {
   "cell_type": "code",
   "execution_count": 15,
   "metadata": {
    "metadata": {}
   },
   "outputs": [],
   "source": [
    "        \n",
    "# count a REF data file \n",
    "def count_ref_onefile(filename, require_d3, ref):\n",
    "    \"\"\"\n",
    "    (\"total fix\") and (\"No fixed\") and (\"No Op\" ) 按照satisf d3且smooth考虑\n",
    "    total 和 no fix 实际是相同的全固定，No fix\n",
    "    \"\"\"\n",
    "    numo3_ref=0\n",
    "    numo7_ref=0\n",
    "    numo3o7_ref=0\n",
    "    numo5_ref=0\n",
    "    numo9_ref=0\n",
    "    numo5o9_ref=0\n",
    "    numtotal=0\n",
    "    numnofix=0\n",
    "    triangnumber=0\n",
    "    involnumber=0\n",
    "    datasmoothT=0\n",
    "    datasmoothN=0\n",
    "    datasmoothF=0\n",
    "    invol_divisor_type={}\n",
    "    #trinum=[]\n",
    "    SRIS=[]\n",
    "    result={}\n",
    "    with open(filename, 'r') as p:\n",
    "        datas=ijson.items(p, 'item')\n",
    "        #try:\n",
    "        for data in datas:\n",
    "            if data=={} or data==[]:\n",
    "                continue\n",
    "            if data[\"SR_list\"] not in SRIS:\n",
    "                triangnumber+=1\n",
    "                SRIS.append(data[\"SR_list\"])\n",
    "            else:\n",
    "                print(\"似乎有重复的，\",filename,data[\"SR_list\"])\n",
    "            if \"(\" in data[\"divisor\"]:\n",
    "                divisors=[eval(x.split(\")\")[0]) for x in data[\"divisor\"].split(\"(\")[1:]]\n",
    "            else:\n",
    "                divisors=eval(data[\"divisor\"])\n",
    "            if \"invol\"+str(ref) not in data.keys():\n",
    "                print(filename + \" no invol\"+str(ref))\n",
    "                continue\n",
    "            for dataone in data[\"invol\"+str(ref)]:\n",
    "                if require_d3:\n",
    "                    if (\"satisfied\" not in dataone) and (\"total fix\" not in dataone) and (\"No fixed\" not in dataone) and (\"No Op\" not in dataone):\n",
    "                        continue\n",
    "                involnumber+=1\n",
    "                if \"[h12p, h12n, smooth]\" in dataone:\n",
    "                    if \"True\" in dataone:\n",
    "                        datasmoothT+=1\n",
    "                    elif \"None\" in dataone:\n",
    "                        datasmoothN+=1\n",
    "                    else:\n",
    "                        datasmoothF+=1\n",
    "                else:\n",
    "                    if (\"total\" in dataone) or (\"No fixed\" in dataone) or (\"No Op\" in dataone):\n",
    "                        datasmoothT+=1\n",
    "                        \n",
    "                if ref in [1,3]:\n",
    "                    \n",
    "                    if \"O5\" in dataone or \"O9\" in dataone:\n",
    "                        print(\"Problem data, something wrong:\", dataone, filename)\n",
    "                    elif \"O3\" in dataone:\n",
    "                        if \"O7\" in dataone:\n",
    "                            numo3o7_ref+=1\n",
    "                        else:\n",
    "                            numo3_ref+=1\n",
    "                    elif \"O7\" in dataone:\n",
    "                        numo7_ref+=1\n",
    "                    else:\n",
    "                        if \"total\" in dataone:\n",
    "                            numtotal+=1\n",
    "                            # print(\"固定：\",dataone, filename, data[\"tri_id\"])\n",
    "                        elif (\"No fixed\" in dataone) or (\"No Op\" in dataone):\n",
    "                            numnofix+=1\n",
    "                            # print(\"固定点超平面不相交：\",dataone, filename)\n",
    "                        else:\n",
    "                            print(\"other type oplane\", filename, dataone, data[\"polyid\"])\n",
    "                else:\n",
    "                    \n",
    "                    if \"O3\" in dataone or \"O7\" in dataone:\n",
    "                        print(\"Problem data, something wrong:\", dataone, filename)\n",
    "                    if \"O5\" in dataone:\n",
    "                        if \"O9\" in dataone:\n",
    "                            numo5o9_ref+=1\n",
    "                        else:\n",
    "                            numo5_ref+=1\n",
    "                    elif \"O9\" in dataone:\n",
    "                        numo9_ref+=1\n",
    "                    else:\n",
    "                        if \"total\" in dataone:\n",
    "                            numtotal+=1\n",
    "                            # print(\"固定：\",dataone, filename, data[\"tri_id\"])\n",
    "                        elif (\"No fixed\" in dataone) or (\"No Op\" in dataone):\n",
    "                            numnofix+=1\n",
    "                            # print(\"固定点超平面不相交：\",dataone, filename)\n",
    "                        else:\n",
    "                            print(\"other type oplane\", filename, dataone, data[\"polyid\"])\n",
    "                type_invols_divisor=[]\n",
    "\n",
    "                # rigid 1, willson 2, exact 2.1, k3 3, sd1 4, sd2 5\n",
    "                # 0 represent other type divisor\n",
    "                invols=eval(dataone.split(\";\")[0])\n",
    "                for invol in invols:\n",
    "                    divisor=divisors[invol]\n",
    "                    if divisor[1]!=0:\n",
    "                        if divisor[3]!=0:\n",
    "                            if divisor[1]==1:\n",
    "                                type_invols_divisor.append(7)\n",
    "                            else:\n",
    "                                type_invols_divisor.append(2)\n",
    "                        else:\n",
    "                            type_invols_divisor.append(0)\n",
    "                            print(\"problem \", divisor)\n",
    "                    else:\n",
    "                        if divisor[2]==0:\n",
    "                            # 23都为0\n",
    "                            if divisor[3]<10:\n",
    "                                type_invols_divisor.append(1)\n",
    "                            else:\n",
    "                                type_invols_divisor.append(6)\n",
    "                        elif divisor==[1,0,1,20]:\n",
    "                            type_invols_divisor.append(3)\n",
    "                        elif divisor==[1,0,1,21]:\n",
    "                            type_invols_divisor.append(4)\n",
    "                        elif divisor==[1,0,2,30]:\n",
    "                            type_invols_divisor.append(5)\n",
    "                        else:\n",
    "                            type_invols_divisor.append(0)\n",
    "                type_invols_divisor.sort()\n",
    "                if str(type_invols_divisor) in invol_divisor_type.keys():\n",
    "                    invol_divisor_type[str(type_invols_divisor)]+=1\n",
    "                else:\n",
    "                    invol_divisor_type.setdefault(str(type_invols_divisor), 1)\n",
    "            if not require_d3:\n",
    "                if sum([numo3_ref, numo7_ref, numo3o7_ref, numo5_ref, numo9_ref,numo5o9_ref,numtotal, numnofix])!=involnumber:\n",
    "                    print(\"something wrong,number not meet \",filename, sum([numo3_ref, numo7_ref, numo3o7_ref, numo5_ref, numo9_ref,numo5o9_ref,numtotal, numnofix]), involnumber)\n",
    "    result.setdefault(\"h11, polynumber, triangnumber\", [0, 1, triangnumber])\n",
    "    result.setdefault(\"numo3_ref, numo7_ref, numo3o7_ref, numo5_ref, numo9_ref, numo5o9_ref, involnumber\",[numo3_ref, numo7_ref, numo3o7_ref, numo5_ref, numo9_ref, numo5o9_ref, involnumber])\n",
    "    result.setdefault(\"invol_divisor_type\",invol_divisor_type)\n",
    "    result.setdefault(\"[total_fixed, not fix]\", [numtotal, numnofix])\n",
    "    result.setdefault(\"smooth_N_T_F\",[datasmoothN, datasmoothT, datasmoothF])\n",
    "    return result\n",
    "    #return [numo3_ref, numo7_ref, numo3o7_ref,numo5_ref,numo9_ref,numo5o9_ref, numtotal, numnofix, 1, triangnumber, involnumber, invol_divisor_type,  datasmoothN,datasmoothT,datasmoothF]\n",
    "\n",
    "\n",
    "# count a file of data file\n",
    "def count_REF_many_files(h11, filepath, required3, ref):\n",
    "    result={}\n",
    "    fileori=os.listdir(filepath)\n",
    "    numo3_ref=0\n",
    "    numo7_ref=0\n",
    "    numo3o7_ref=0\n",
    "    numo5_ref=0\n",
    "    numo9_ref=0\n",
    "    numo5o9_ref=0\n",
    "    numtotal_ref=0\n",
    "    notfix_ref=0\n",
    "    polynumber=0\n",
    "    triangnumber=0\n",
    "    involnumber=0\n",
    "    datasmoothT=0\n",
    "    datasmoothN=0\n",
    "    datasmoothF=0\n",
    "    invol_divisor_type={}\n",
    "    #listmany=[numo3_ref, numo7_ref, numo3o7_ref, numo5_ref, numo9_ref,numo5o9_ref, numtotal_ref,notfix_ref,polynumber, triangnumber, involnumber, invol_divisor_type, datasmoothN,datasmoothT,datasmoothF]\n",
    "    result.setdefault(\"h11, polynumber, triangnumber\", [h11, polynumber, triangnumber])\n",
    "    result.setdefault(\"numo3_ref, numo7_ref, numo3o7_ref, numo5_ref, numo9_ref, numo5o9_ref, involnumber\",[numo3_ref, numo7_ref, numo3o7_ref, numo5_ref, numo9_ref, numo5o9_ref, involnumber])\n",
    "    result.setdefault(\"invol_divisor_type\",invol_divisor_type)\n",
    "    result.setdefault(\"[total_fixed, not fix]\", [numtotal_ref, notfix_ref])\n",
    "    result.setdefault(\"smooth_N_T_F\",[datasmoothN, datasmoothT, datasmoothF])\n",
    "\n",
    "\n",
    "\n",
    "    for file in fileori:\n",
    "        resultonefile=count_ref_onefile(filepath+file, required3, ref)\n",
    "        \"\"\"except:\n",
    "            print(file)\n",
    "            continue\"\"\"\n",
    "        for key in result.keys():\n",
    "            if type(result[key])==list:\n",
    "                for i in range(len(result[key])):\n",
    "                    result[key][i]+=resultonefile[key][i]\n",
    "            elif type(result[key])==dict:\n",
    "                for kkey in resultonefile[key].keys():\n",
    "                    if kkey in result[key].keys():\n",
    "                        result[key][kkey]+=resultonefile[key][kkey]\n",
    "                    else:\n",
    "                        result[key].setdefault(kkey, resultonefile[key][kkey])\n",
    "            elif type(result[key])==int:\n",
    "                result[key]+=resultonefile[key]\n",
    "            else:\n",
    "                print(\"这个key是什么类型的，不太清楚\")\n",
    "    return result\n",
    "\n",
    "\n"
   ]
  },
  {
   "cell_type": "markdown",
   "metadata": {},
   "source": [
    "# h11<=7, ref, (ALL of this count could take a lot minites.)"
   ]
  },
  {
   "cell_type": "code",
   "execution_count": 16,
   "metadata": {
    "metadata": {}
   },
   "outputs": [
    {
     "name": "stdout",
     "output_type": "stream",
     "text": [
      "2\n",
      "3\n",
      "4\n",
      "5\n",
      "6\n",
      "7\n"
     ]
    }
   ],
   "source": [
    "# count the result of REF\n",
    "resultsout=[]\n",
    "required3=True\n",
    "ref=3\n",
    "for h11 in [2,3,4,5,6,7]:\n",
    "    print(h11)\n",
    "    filepathREF=\"../../dataout/REF/h11=\"+str(h11)+\"/\"\n",
    "    resultsout.append(count_REF_many_files(h11, filepathREF, required3, ref))\n",
    "with open(\"../result/REFresultsout_h2-7_required3\"+str(required3)+\"_ref\"+str(ref)+\".txt\", 'w') as p_out:\n",
    "    json.dump(resultsout, p_out, indent=2)"
   ]
  },
  {
   "cell_type": "code",
   "execution_count": 17,
   "metadata": {
    "metadata": {}
   },
   "outputs": [
    {
     "name": "stdout",
     "output_type": "stream",
     "text": [
      "2\n",
      "3\n",
      "4\n",
      "5\n",
      "6\n",
      "7\n"
     ]
    }
   ],
   "source": [
    "# count the result of REF\n",
    "resultsout=[]\n",
    "required3=True\n",
    "ref=1\n",
    "for h11 in [2,3,4,5,6,7]:\n",
    "    print(h11)\n",
    "    filepathREF=\"../../dataout/REF/h11=\"+str(h11)+\"/\"\n",
    "    resultsout.append(count_REF_many_files(h11, filepathREF, required3, ref))\n",
    "with open(\"../result/REFresultsout_h2-7_required3\"+str(required3)+\"_ref\"+str(ref)+\".txt\", 'w') as p_out:\n",
    "    json.dump(resultsout, p_out, indent=2)"
   ]
  },
  {
   "cell_type": "markdown",
   "metadata": {},
   "source": [
    "# h11>7, REF"
   ]
  },
  {
   "cell_type": "code",
   "execution_count": 18,
   "metadata": {
    "metadata": {}
   },
   "outputs": [
    {
     "name": "stdout",
     "output_type": "stream",
     "text": [
      "8\n",
      "9\n",
      "10\n",
      "11\n",
      "12\n"
     ]
    }
   ],
   "source": [
    "required3=True\n",
    "ref=3\n",
    "resultsout=[]\n",
    "for h11 in [8,9,10,11,12]:\n",
    "    print(h11)\n",
    "    filepathREF=\"../../dataout/REF/h11=\"+str(h11)+\"/\"\n",
    "    resultsout.append(count_REF_many_files(h11, filepathREF, required3, ref))\n",
    "with open(\"../result/REFresultsout_h8-12_required3\"+str(required3)+\"_ref\"+str(ref)+\".txt\", 'w') as p_out:\n",
    "    json.dump(resultsout, p_out, indent=2)"
   ]
  },
  {
   "cell_type": "code",
   "execution_count": 19,
   "metadata": {
    "metadata": {}
   },
   "outputs": [
    {
     "name": "stdout",
     "output_type": "stream",
     "text": [
      "8\n",
      "9\n",
      "10\n",
      "11\n",
      "12\n"
     ]
    }
   ],
   "source": [
    "required3=True\n",
    "ref=1\n",
    "resultsout=[]\n",
    "for h11 in [8,9,10,11,12]:\n",
    "    print(h11)\n",
    "    filepathREF=\"../../dataout/REF/h11=\"+str(h11)+\"/\"\n",
    "    resultsout.append(count_REF_many_files(h11, filepathREF, required3, ref))\n",
    "with open(\"../result/REFresultsout_h8-12_required3\"+str(required3)+\"_ref\"+str(ref)+\".txt\", 'w') as p_out:\n",
    "    json.dump(resultsout, p_out, indent=2)"
   ]
  },
  {
   "cell_type": "code",
   "execution_count": 20,
   "metadata": {
    "metadata": {}
   },
   "outputs": [],
   "source": [
    "# 统计错误数据数量"
   ]
  }
 ],
 "metadata": {
  "kernelspec": {
   "display_name": "Python 3",
   "language": "python",
   "name": "python3"
  },
  "language_info": {
   "codemirror_mode": {
    "name": "ipython",
    "version": 3
   },
   "file_extension": ".py",
   "mimetype": "text/x-python",
   "name": "python",
   "nbconvert_exporter": "python",
   "pygments_lexer": "ipython3",
   "version": "3.10.12"
  }
 },
 "nbformat": 4,
 "nbformat_minor": 2
}
